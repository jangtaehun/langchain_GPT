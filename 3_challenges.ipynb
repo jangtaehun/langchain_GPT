{
 "cells": [
  {
   "cell_type": "code",
   "execution_count": 1,
   "metadata": {},
   "outputs": [
    {
     "name": "stdout",
     "output_type": "stream",
     "text": [
      "파이썬이여, 그 명예로운 이름\n",
      "간결하고 간단한 문법, 마치 시인의 글처럼\n",
      "들여쓰기로 블록을 만들어\n",
      "우아한 코드를 펼쳐가는구나\n",
      "데이터 분석, 웹 개발, 인공지능\n",
      "다양한 분야에서 빛을 발하는구나파이썬이여, 그 명예로운 이름\n",
      "간결하고 간단한 문법, 마치 시인의 글처럼\n",
      "들여쓰기로 블록을 만들어\n",
      "우아한 코드를 펼쳐가는구나\n",
      "데이터 분석, 웹 개발, 인공지능\n",
      "다양한 분야에서 빛을 발하는구나\n",
      "\n",
      "해석:\n",
      "파이썬이란 프로그래밍 언어에 대한 찬사를 담은 시로, 파이썬의 간결하고 간단한 문법을 시인의 글처럼 아름답게 표현하고 있습니다. 또한 파이썬의 들여쓰기를 통해 우아하고 가독성 높은 코드를 작성할 수 있다는 점과 데이터 분석, 웹 개발, 인공지능 등 다양한 분야에서 활용되며 빛을 발한다는 점을 강조하고 있습니다."
     ]
    }
   ],
   "source": [
    "from langchain.chat_models import ChatOpenAI\n",
    "from langchain.schema import BaseOutputParser\n",
    "from langchain.prompts import ChatPromptTemplate\n",
    "from langchain.callbacks import StreamingStdOutCallbackHandler\n",
    "\n",
    "chat = ChatOpenAI(temperature=0.5, streaming=True, callbacks=[StreamingStdOutCallbackHandler()]) # streaming=True -> 응답 생성을 확인할 수 있다.\n",
    "\n",
    "class CommaOutputParser(BaseOutputParser):\n",
    "    def parse(self, text):\n",
    "        items = text.strip().split(\",\")\n",
    "        return list(map(str.strip, items))\n",
    "    \n",
    "make_poem = ChatPromptTemplate.from_messages(\n",
    "    [\n",
    "        (\"system\", \"당신은 프로그래밍 언어에 대한 시를 쓰는 시 전문가 입니다. 적어도 6줄 이상의 시를 만들어줘. 입력 받은 질문들은 모두 comma로 구분된 list로 답해질 것입니다.\"),\n",
    "        (\"human\", \"{question}\")\n",
    "    ]\n",
    ")\n",
    "\n",
    "explain_poem = ChatPromptTemplate.from_messages(\n",
    "    [\n",
    "        (\"system\", \"당신은 프로그래밍 언어에 대한 시를 해석해주는 시 해석 전문가 입니다. 입력받은 시를 알려주고 한 줄 띄고 시를 해석해주세요. 입력 받은 질문들은 모두 comma로 구분된 list로 답해질 것입니다.\"),\n",
    "        (\"human\", \"{poem}\")\n",
    "    ]\n",
    ")\n",
    "\n",
    "make_poem_chain = make_poem | chat\n",
    "explain_poem_chain = explain_poem | chat\n",
    "final_chain = {\"poem\":make_poem_chain}| explain_poem_chain\n",
    "\n",
    "'''\n",
    "poem_result = make_poem_chain.invoke({\"question\": \"파이썬\"})\n",
    "print(\"생성된 시:\", poem_result)\n",
    "\n",
    "invoke_result = explain_poem_chain.invoke({\"poem\": poem_result})\n",
    "print(\"시 해석:\", invoke_result)\n",
    "'''\n",
    "\n",
    "invoke_result = final_chain.invoke({\"question\":\"파이썬\"})\n",
    "# invoke_result"
   ]
  }
 ],
 "metadata": {
  "kernelspec": {
   "display_name": "env",
   "language": "python",
   "name": "python3"
  },
  "language_info": {
   "codemirror_mode": {
    "name": "ipython",
    "version": 3
   },
   "file_extension": ".py",
   "mimetype": "text/x-python",
   "name": "python",
   "nbconvert_exporter": "python",
   "pygments_lexer": "ipython3",
   "version": "3.10.11"
  }
 },
 "nbformat": 4,
 "nbformat_minor": 2
}
