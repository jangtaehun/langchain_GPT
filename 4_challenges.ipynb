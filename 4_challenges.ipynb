{
 "cells": [
  {
   "cell_type": "markdown",
   "metadata": {},
   "source": [
    "### FewShotChatMessagePromptTemplate"
   ]
  },
  {
   "cell_type": "code",
   "execution_count": 2,
   "metadata": {},
   "outputs": [],
   "source": [
    "examples = [\n",
    "{\n",
    "\"question\": \"서울의 봄\",\n",
    "\"answer\": \"\"\"\n",
    "영화: 서울의 봄 (2023)\n",
    "감독: 김성수\n",
    "주요 출연진: 황정민 (전두광), 정우성 (최두길), 이성민 (이태신), 박해준 (박정원), 김성균 (권병수)\n",
    "예산: 미공개\n",
    "흥행 수익: 약 1,000만 명 이상 관객 돌파 (2024년 기준)\n",
    "영화 장르: 역사, 드라마, 정치, 스릴러\n",
    "간단한 시놉시스: \n",
    "1979년 10월 26일, 박 대통령이 사망한 이후, 대한민국은 격변의 시기에 접어든다. 전두광(황정민)과 그의 군부 세력이 서울을 장악하려는 쿠데타를 일으키면서, 이를 막으려는 정치인과 군 인사들의 치열한 대립이 펼쳐진다. 대한민국 현대사의 가장 어두운 순간 중 하나를 현실감 있게 그려낸 작품.\n",
    "관련 추천 영화: 남산의 부장들, 1987, 택시운전사, 변호인, 공작\n",
    "\"\"\"\n",
    "},\n",
    "\n",
    "{\n",
    "\"question\": \"어벤져스\",\n",
    "\"answer\": \"\"\"\n",
    "영화: 어벤져스 (The Avengers, 2012)\n",
    "감독: 조스 웨던 (Joss Whedon)\n",
    "주요 출연진: 로버트 다우니 주니어 (아이언맨), 크리스 에반스 (캡틴 아메리카), 크리스 헴스워스 (토르), 마크 러팔로 (헐크), 스칼렛 요한슨 (블랙 위도우), 제레미 레너 (호크아이), 톰 히들스턴 (로키), 사무엘 L. 잭슨 (닉 퓨리)\n",
    "예산: 약 2억 2,000만 달러\n",
    "흥행 수익: 약 15억 1,800만 달러 (전 세계 박스오피스)\n",
    "영화 장르: 슈퍼히어로, 액션, SF\n",
    "간단한 시놉시스: 지구를 위협하는 외계 군단 '치타우리'와 악당 로키를 막기 위해, 닉 퓨리가 아이언맨, 캡틴 아메리카, 토르, 헐크, 블랙 위도우, 호크아이를 모아 **'어벤져스'** 팀을 결성한다. 처음에는 서로 다른 개성과 가치관으로 충돌하지만, 결국 힘을 합쳐 지구를 지키기 위한 최후의 전투에 나선다.\n",
    "관련 추천 영화: 어벤져스: 에이지 오브 울트론, 어벤져스: 인피니티 워, 캡틴 아메리카: 시빌 워, 토르: 라그나로크, 가디언즈 오브 갤럭시\n",
    "\"\"\",\n",
    "},\n",
    "]"
   ]
  },
  {
   "cell_type": "code",
   "execution_count": 3,
   "metadata": {},
   "outputs": [
    {
     "name": "stdout",
     "output_type": "stream",
     "text": [
      "영화: 암살 (2015)\n",
      "감독: 최동훈\n",
      "주요 출연진: 이정재 (안중근), 전지현 (연희), 하정우 (인근), 조진웅 (무석), 이경영 (동명), 조정석 (천봉식)\n",
      "예산: 약 160억 원\n",
      "흥행 수익: 약 9,700만 명 관객 돌파\n",
      "영화 장르: 역사, 액션, 스릴러\n",
      "간단한 시놉시스:\n",
      "1910년, 식민지 조선. 대한민국 임시정부의 독립운동가 안중근(이정재)은 독립을 위한 암살 계획을 세우게 된다. 그리고 조선총독을 제거하기 위해 여자 스나이퍼 연희(전지현), 폭탄 전문가 인근(하정우)과 함께 위험한 작전에 돌입한다. 역사 속의 암살 사건을 바탕으로 한 본 작품은 스릴 넘치는 전투와 감동적인 인간 이야기를 그려냈다.\n",
      "관련 추천 영화: 국가대표, 태극기 휘날리며, 밀정, 더 킹\n"
     ]
    },
    {
     "data": {
      "text/plain": [
       "AIMessageChunk(content='영화: 암살 (2015)\\n감독: 최동훈\\n주요 출연진: 이정재 (안중근), 전지현 (연희), 하정우 (인근), 조진웅 (무석), 이경영 (동명), 조정석 (천봉식)\\n예산: 약 160억 원\\n흥행 수익: 약 9,700만 명 관객 돌파\\n영화 장르: 역사, 액션, 스릴러\\n간단한 시놉시스:\\n1910년, 식민지 조선. 대한민국 임시정부의 독립운동가 안중근(이정재)은 독립을 위한 암살 계획을 세우게 된다. 그리고 조선총독을 제거하기 위해 여자 스나이퍼 연희(전지현), 폭탄 전문가 인근(하정우)과 함께 위험한 작전에 돌입한다. 역사 속의 암살 사건을 바탕으로 한 본 작품은 스릴 넘치는 전투와 감동적인 인간 이야기를 그려냈다.\\n관련 추천 영화: 국가대표, 태극기 휘날리며, 밀정, 더 킹\\n')"
      ]
     },
     "execution_count": 3,
     "metadata": {},
     "output_type": "execute_result"
    }
   ],
   "source": [
    "from langchain.chat_models import ChatOpenAI\n",
    "from langchain.prompts.few_shot import FewShotChatMessagePromptTemplate\n",
    "from langchain.callbacks import StreamingStdOutCallbackHandler\n",
    "from langchain.prompts import ChatPromptTemplate\n",
    "\n",
    "chat = ChatOpenAI(temperature=0.5, streaming=True, callbacks=[StreamingStdOutCallbackHandler()])\n",
    "\n",
    "# examples 리스트에는 \"question\"과 \"answer\" 키 사용\n",
    "example_prompt_1 = ChatPromptTemplate.from_messages([\n",
    "    (\"human\", \"영화 {question}에 대해 알려줘\"),\n",
    "    (\"ai\", \"{answer}\")\n",
    "])\n",
    "\n",
    "example_prompt_2 = FewShotChatMessagePromptTemplate(\n",
    "    example_prompt = example_prompt_1,\n",
    "    examples = examples,\n",
    ")\n",
    "\n",
    "final_prompt = ChatPromptTemplate.from_messages([\n",
    "    (\"system\", \"당신은 영화 전문가입니다. 주어진 형식에 맞춰 설명해주세요.\"),\n",
    "    example_prompt_2,\n",
    "    (\"human\", \"영화 {question}에 대해 알려줘\"),\n",
    "])\n",
    "\n",
    "chain = final_prompt | chat\n",
    "chain.invoke({\n",
    "    \"question\": \"암살\"\n",
    "})\n"
   ]
  },
  {
   "cell_type": "markdown",
   "metadata": {},
   "source": [
    "### FewShotPromptTemplate"
   ]
  },
  {
   "cell_type": "code",
   "execution_count": 5,
   "metadata": {},
   "outputs": [],
   "source": [
    "examples = [\n",
    "{\n",
    "\"question\": \"영화 서울의 봄에 대해 알려줘\",\n",
    "\"answer\": \"\"\"\n",
    "영화: 서울의 봄 (2023)\n",
    "감독: 김성수\n",
    "주요 출연진: 황정민 (전두광), 정우성 (최두길), 이성민 (이태신), 박해준 (박정원), 김성균 (권병수)\n",
    "예산: 미공개\n",
    "흥행 수익: 약 1,000만 명 이상 관객 돌파 (2024년 기준)\n",
    "영화 장르: 역사, 드라마, 정치, 스릴러\n",
    "간단한 시놉시스: \n",
    "1979년 10월 26일, 박 대통령이 사망한 이후, 대한민국은 격변의 시기에 접어든다. 전두광(황정민)과 그의 군부 세력이 서울을 장악하려는 쿠데타를 일으키면서, 이를 막으려는 정치인과 군 인사들의 치열한 대립이 펼쳐진다. 대한민국 현대사의 가장 어두운 순간 중 하나를 현실감 있게 그려낸 작품.\n",
    "관련 추천 영화: 남산의 부장들, 1987, 택시운전사, 변호인, 공작\n",
    "\"\"\"\n",
    "},\n",
    "\n",
    "{\n",
    "\"question\": \"영화 어벤져스에 대해 알려줘\",\n",
    "\"answer\": \"\"\"\n",
    "영화: 어벤져스 (The Avengers, 2012)\n",
    "감독: 조스 웨던 (Joss Whedon)\n",
    "주요 출연진: 로버트 다우니 주니어 (아이언맨), 크리스 에반스 (캡틴 아메리카), 크리스 헴스워스 (토르), 마크 러팔로 (헐크), 스칼렛 요한슨 (블랙 위도우), 제레미 레너 (호크아이), 톰 히들스턴 (로키), 사무엘 L. 잭슨 (닉 퓨리)\n",
    "예산: 약 2억 2,000만 달러\n",
    "흥행 수익: 약 15억 1,800만 달러 (전 세계 박스오피스)\n",
    "영화 장르: 슈퍼히어로, 액션, SF\n",
    "간단한 시놉시스: 지구를 위협하는 외계 군단 '치타우리'와 악당 로키를 막기 위해, 닉 퓨리가 아이언맨, 캡틴 아메리카, 토르, 헐크, 블랙 위도우, 호크아이를 모아 **'어벤져스'** 팀을 결성한다. 처음에는 서로 다른 개성과 가치관으로 충돌하지만, 결국 힘을 합쳐 지구를 지키기 위한 최후의 전투에 나선다.\n",
    "관련 추천 영화: 어벤져스: 에이지 오브 울트론, 어벤져스: 인피니티 워, 캡틴 아메리카: 시빌 워, 토르: 라그나로크, 가디언즈 오브 갤럭시\n",
    "\"\"\",\n",
    "},\n",
    "]"
   ]
  },
  {
   "cell_type": "code",
   "execution_count": 6,
   "metadata": {},
   "outputs": [
    {
     "name": "stdout",
     "output_type": "stream",
     "text": [
      "AI:\n",
      "영화: 설국열차 (Snowpiercer, 2013)\n",
      "감독: 봉준호 (Bong Joon-ho)\n",
      "주요 출연진: 크리스 에반스 (커티스), 송강호 (남고), 에드 해리스 (윌포드), 존 허트 (메이슨), 제이미 벨 (클라라), 알리슨 피스 (크로울리), 루크 퍼리 (에드거)\n",
      "예산: 약 4,000만 달러\n",
      "흥행 수익: 약 8,700만 달러\n",
      "영화 장르: SF, 액션, 드라마, 스릴러\n",
      "간단한 시놉시스: 지구가 급격한 기후변화로 얼어붙은 후, 유일한 생존자들이 탑승한 기차 '열차'를 무대로 벌어지는 이야기. 열차 안에서의 등급제와 갈등, 그리고 하층민들이 일으키는 반란을 통해 사회적 문제와 인간 본성에 대한 메시지를 담은 작품.\n",
      "관련 추천 영화: 옥자, 기생충, 메멘토, 인터스텔라, 블레이드 러너 2049"
     ]
    },
    {
     "data": {
      "text/plain": [
       "AIMessageChunk(content=\"AI:\\n영화: 설국열차 (Snowpiercer, 2013)\\n감독: 봉준호 (Bong Joon-ho)\\n주요 출연진: 크리스 에반스 (커티스), 송강호 (남고), 에드 해리스 (윌포드), 존 허트 (메이슨), 제이미 벨 (클라라), 알리슨 피스 (크로울리), 루크 퍼리 (에드거)\\n예산: 약 4,000만 달러\\n흥행 수익: 약 8,700만 달러\\n영화 장르: SF, 액션, 드라마, 스릴러\\n간단한 시놉시스: 지구가 급격한 기후변화로 얼어붙은 후, 유일한 생존자들이 탑승한 기차 '열차'를 무대로 벌어지는 이야기. 열차 안에서의 등급제와 갈등, 그리고 하층민들이 일으키는 반란을 통해 사회적 문제와 인간 본성에 대한 메시지를 담은 작품.\\n관련 추천 영화: 옥자, 기생충, 메멘토, 인터스텔라, 블레이드 러너 2049\")"
      ]
     },
     "execution_count": 6,
     "metadata": {},
     "output_type": "execute_result"
    }
   ],
   "source": [
    "from langchain.chat_models import ChatOpenAI\n",
    "from langchain.prompts.few_shot import FewShotPromptTemplate\n",
    "from langchain.callbacks import StreamingStdOutCallbackHandler\n",
    "from langchain.prompts import PromptTemplate\n",
    "# Fewshot: 모델에게 예제를 보여주고 이에 대한 답변을 요청하는 방식\n",
    "\n",
    "chat = ChatOpenAI(temperature=0.5, streaming=True, callbacks=[StreamingStdOutCallbackHandler()])\n",
    "\n",
    "\n",
    "example_template = \"\"\"\n",
    "    Human: {question}\n",
    "    AI: {answer}\n",
    "\"\"\"\n",
    "# example_prompt = PromptTemplate.from_template(\"Human: {question}\\nAI: {answer}\")\n",
    "example_prompt = PromptTemplate.from_template(example_template)\n",
    "\n",
    "\n",
    "prompt = FewShotPromptTemplate(\n",
    "    example_prompt = example_prompt,\n",
    "    examples = examples,\n",
    "    suffix=\"Human: 영화 {model}에 대해 알려줘\",\n",
    "    input_variables=[\"model\"]\n",
    ")\n",
    "\n",
    "chain = prompt | chat\n",
    "chain.invoke({\n",
    "    \"model\": \"설국열차\"\n",
    "})\n"
   ]
  },
  {
   "cell_type": "code",
   "execution_count": null,
   "metadata": {},
   "outputs": [],
   "source": []
  },
  {
   "cell_type": "code",
   "execution_count": null,
   "metadata": {},
   "outputs": [],
   "source": []
  }
 ],
 "metadata": {
  "kernelspec": {
   "display_name": "env",
   "language": "python",
   "name": "python3"
  },
  "language_info": {
   "codemirror_mode": {
    "name": "ipython",
    "version": 3
   },
   "file_extension": ".py",
   "mimetype": "text/x-python",
   "name": "python",
   "nbconvert_exporter": "python",
   "pygments_lexer": "ipython3",
   "version": "3.10.11"
  }
 },
 "nbformat": 4,
 "nbformat_minor": 2
}
