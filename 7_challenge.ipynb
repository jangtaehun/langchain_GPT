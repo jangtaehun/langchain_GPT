{
 "cells": [
  {
   "cell_type": "markdown",
   "metadata": {},
   "source": [
    "## Why are Prompt Templates useful?\n",
    "> - They help us reuse prompts and format them with variables"
   ]
  },
  {
   "cell_type": "markdown",
   "metadata": {
    "vscode": {
     "languageId": "plaintext"
    }
   },
   "source": [
    "## What is the difference between a PromptTemplate and a ChatPromptTemplate?\n",
    "> -  ChatPromptTemplate is to format chat messages and PromptTemplate is to format a string\n"
   ]
  },
  {
   "cell_type": "markdown",
   "metadata": {},
   "source": [
    "## What does LCEL mean?\n",
    "> - LangChain Expression Language"
   ]
  },
  {
   "cell_type": "markdown",
   "metadata": {},
   "source": [
    "## Why do we use few-shot examples?\n",
    "> - To give examples to the LLM on how to format the response"
   ]
  },
  {
   "cell_type": "markdown",
   "metadata": {},
   "source": [
    "## What does the | operator do here?\n",
    "### prompt | model | output_parser\n",
    "> - It formats the prompt, sends it to the model and gives the output to the output parser"
   ]
  },
  {
   "cell_type": "markdown",
   "metadata": {},
   "source": [
    "## What does RAG mean?\n",
    "> - Retrieval Augmented Generation"
   ]
  },
  {
   "cell_type": "markdown",
   "metadata": {},
   "source": [
    "## When do we need to do RAG?\n",
    "> - When we want to use an LLM with data it was not trained with"
   ]
  },
  {
   "cell_type": "markdown",
   "metadata": {},
   "source": [
    "## When doing RAG why do we need to split documents?\n",
    "> - To embed the document in small chunks"
   ]
  },
  {
   "cell_type": "markdown",
   "metadata": {},
   "source": [
    "## Why do we need to embed our documents?\n",
    "> - To turn words into vectors and perform searches later"
   ]
  },
  {
   "cell_type": "markdown",
   "metadata": {},
   "source": [
    "## Why do we use Vector Stores?\n",
    "> - To store and search embeddings"
   ]
  }
 ],
 "metadata": {
  "language_info": {
   "name": "python"
  }
 },
 "nbformat": 4,
 "nbformat_minor": 2
}
