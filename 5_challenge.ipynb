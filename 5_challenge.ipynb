{
 "cells": [
  {
   "cell_type": "code",
   "execution_count": 85,
   "metadata": {},
   "outputs": [],
   "source": [
    "examples = [\n",
    "{\n",
    "\"quesition\": \"Top Gun\",\n",
    "\"answer\": \"\"\"\n",
    "🛩️👨‍✈️🔥\n",
    "\"\"\"\n",
    "},\n",
    "\n",
    "{\n",
    "\"quesition\": \"대부\",\n",
    "\"answer\": \"\"\"\n",
    "👨‍👨‍👦🔫🍝\n",
    "\"\"\",\n",
    "},\n",
    "]"
   ]
  },
  {
   "cell_type": "code",
   "execution_count": null,
   "metadata": {},
   "outputs": [
    {
     "name": "stdout",
     "output_type": "stream",
     "text": [
      "🦸‍♂️🦸‍♀️🦹‍♂️🌍💥\n"
     ]
    }
   ],
   "source": [
    "from langchain.chat_models import ChatOpenAI\n",
    "from langchain.prompts.few_shot import FewShotChatMessagePromptTemplate\n",
    "from langchain.prompts import ChatPromptTemplate, MessagesPlaceholder\n",
    "from langchain.memory import ConversationSummaryBufferMemory\n",
    "from langchain.schema.runnable import RunnablePassthrough\n",
    "\n",
    "\n",
    "llm = ChatOpenAI(temperature=0.4)\n",
    "memory = ConversationSummaryBufferMemory(\n",
    "    llm=llm, \n",
    "    max_token_limit=100,\n",
    "    memory_key=\"history_a\",\n",
    "    return_messages=True\n",
    ")\n",
    "\n",
    "\n",
    "example_prompt_1 = ChatPromptTemplate.from_messages([\n",
    "    (\"human\", \"{quesition}\"),\n",
    "    (\"ai\", \"{answer}\")\n",
    "])\n",
    "\n",
    "example_prompt_2 = FewShotChatMessagePromptTemplate(\n",
    "    example_prompt=example_prompt_1,\n",
    "    examples=examples,\n",
    ")\n",
    "\n",
    "final_prompt = ChatPromptTemplate.from_messages([\n",
    "    (\"system\", \"당신은 영화 전문가입니다. 영화 제목을 말하면 형식에 맞춰서 답해주세요. Top Gun, 대부는 예시입니다.\"),\n",
    "    MessagesPlaceholder(variable_name=\"history_a\"),\n",
    "    example_prompt_2,\n",
    "    (\"human\", \"{quesition}?\"),\n",
    "])\n",
    "\n",
    "def load_memory(_):\n",
    "    return memory.load_memory_variables({})[\"history_a\"]\n",
    "\n",
    "chain = (\n",
    "    RunnablePassthrough.assign(history_a=load_memory)\n",
    "    | final_prompt \n",
    "    | llm\n",
    ")\n",
    "\n",
    "def invoke_chain(quesition):\n",
    "    result = chain.invoke({\"quesition\": quesition})\n",
    "    memory.save_context({\"input\": quesition}, {\"output\": result.content})\n",
    "    print(result.content)\n",
    "\n",
    "invoke_chain(\"어벤져스\")"
   ]
  },
  {
   "cell_type": "code",
   "execution_count": 87,
   "metadata": {},
   "outputs": [
    {
     "name": "stdout",
     "output_type": "stream",
     "text": [
      "⚡️🔨🌩️\n"
     ]
    }
   ],
   "source": [
    "invoke_chain(\"토르\")"
   ]
  },
  {
   "cell_type": "code",
   "execution_count": 88,
   "metadata": {},
   "outputs": [
    {
     "data": {
      "text/plain": [
       "[HumanMessage(content='어벤져스'),\n",
       " AIMessage(content='🦸\\u200d♂️🦸\\u200d♀️🦹\\u200d♂️🌍💥'),\n",
       " HumanMessage(content='토르'),\n",
       " AIMessage(content='⚡️🔨🌩️')]"
      ]
     },
     "execution_count": 88,
     "metadata": {},
     "output_type": "execute_result"
    }
   ],
   "source": [
    "memory.load_memory_variables({})[\"history_a\"]"
   ]
  },
  {
   "cell_type": "code",
   "execution_count": 89,
   "metadata": {},
   "outputs": [
    {
     "name": "stdout",
     "output_type": "stream",
     "text": [
      "처음 물어본 영화는 \"어벤져스\"였습니다.\n"
     ]
    }
   ],
   "source": [
    "invoke_chain(\"처음 물어본 영화가 뭐야\")"
   ]
  }
 ],
 "metadata": {
  "kernelspec": {
   "display_name": "env",
   "language": "python",
   "name": "python3"
  },
  "language_info": {
   "codemirror_mode": {
    "name": "ipython",
    "version": 3
   },
   "file_extension": ".py",
   "mimetype": "text/x-python",
   "name": "python",
   "nbconvert_exporter": "python",
   "pygments_lexer": "ipython3",
   "version": "3.10.11"
  }
 },
 "nbformat": 4,
 "nbformat_minor": 2
}
